{
 "cells": [
  {
   "cell_type": "markdown",
   "id": "3306dac0",
   "metadata": {},
   "source": [
    "# Conceptos de Programación Orientada a Objetos (POO)\n",
    "\n",
    "## HERENCIA\n",
    "La herencia permite crear nuevas clases a partir de clases existentes. La clase hija (o subclase) hereda atributos y métodos de la clase padre (o superclase), lo que fomenta la reutilización de código y la organización jerárquica. Permite extender o modificar el comportamiento heredado.\n",
    "\n",
    "Ejemplo: Un `Perro` que hereda de `Animal`."
   ]
  },
  {
   "cell_type": "code",
   "execution_count": 1,
   "id": "ce1f9c67",
   "metadata": {},
   "outputs": [
    {
     "name": "stdout",
     "output_type": "stream",
     "text": [
      "Herencia:\n",
      "Guau\n"
     ]
    }
   ],
   "source": [
    "# HERENCIA\n",
    "class Animal:\n",
    "    def hablar(self):\n",
    "        return \"Sonido genérico\"\n",
    "\n",
    "class Perro(Animal):  # Hereda de Animal\n",
    "    def hablar(self):\n",
    "        return \"Guau\"\n",
    "\n",
    "print(\"Herencia:\")\n",
    "print(Perro().hablar())  # Salida: Guau"
   ]
  },
  {
   "cell_type": "markdown",
   "id": "d8585925",
   "metadata": {},
   "source": [
    "## ASOCIACIÓN\n",
    "Es una relación entre clases donde una sabe de la existencia de la otra o la usa. Es una conexión débil: no implica que una clase sea dueña de la otra. Puede ser de uno a uno, uno a muchos o muchos a muchos.\n",
    "\n",
    "Ejemplo: Un `Curso` tiene un `Profesor`, pero ambos pueden existir por separado."
   ]
  },
  {
   "cell_type": "code",
   "execution_count": 2,
   "id": "fbc65b4f",
   "metadata": {},
   "outputs": [
    {
     "name": "stdout",
     "output_type": "stream",
     "text": [
      "\n",
      "Asociación:\n",
      "El curso POO es dictado por Ana\n"
     ]
    }
   ],
   "source": [
    "# ASOCIACIÓN\n",
    "class Profesor:\n",
    "    def __init__(self, nombre):\n",
    "        self.nombre = nombre\n",
    "\n",
    "class Curso:\n",
    "    def __init__(self, nombre, profesor):\n",
    "        self.nombre = nombre\n",
    "        self.profesor = profesor  # Asociación: usa Profesor\n",
    "\n",
    "prof = Profesor(\"Ana\")\n",
    "curso = Curso(\"POO\", prof)\n",
    "print(\"\\nAsociación:\")\n",
    "print(f\"El curso {curso.nombre} es dictado por {curso.profesor.nombre}\")"
   ]
  },
  {
   "cell_type": "markdown",
   "id": "8d2ad155",
   "metadata": {},
   "source": [
    "## AGREGACIÓN\n",
    "Es un tipo de asociación más fuerte. Representa una relación \"tiene un\" donde una clase contiene a otras, pero las partes pueden existir de manera independiente. Es una relación de todo-parte con baja dependencia.\n",
    "\n",
    " Ejemplo: Un `Auto` tiene un `Motor` que puede existir por separado."
   ]
  },
  {
   "cell_type": "code",
   "execution_count": 3,
   "id": "e024c6a5",
   "metadata": {},
   "outputs": [
    {
     "name": "stdout",
     "output_type": "stream",
     "text": [
      "\n",
      "Agregación:\n",
      "El auto tiene un motor Eléctrico\n"
     ]
    }
   ],
   "source": [
    "# AGREGACIÓN\n",
    "class Motor:\n",
    "    def __init__(self, tipo):\n",
    "        self.tipo = tipo\n",
    "\n",
    "class Auto:\n",
    "    def __init__(self, motor):\n",
    "        self.motor = motor  # Agregación: motor puede vivir separado\n",
    "\n",
    "motor = Motor(\"Eléctrico\")\n",
    "auto = Auto(motor)\n",
    "print(\"\\nAgregación:\")\n",
    "print(f\"El auto tiene un motor {auto.motor.tipo}\")"
   ]
  },
  {
   "cell_type": "markdown",
   "id": "123ec8bf",
   "metadata": {},
   "source": [
    "## COMPOSICIÓN\n",
    "Es una forma más fuerte de agregación. Las partes no pueden existir sin el todo. Cuando el objeto contenedor se destruye, sus componentes también se destruyen. Es una relación de dependencia total.\n",
    "\n",
    "Ejemplo: Una `Casa` contiene `Habitaciones` que dejan de existir si la casa desaparece.\n"
   ]
  },
  {
   "cell_type": "code",
   "execution_count": 4,
   "id": "4974ec10",
   "metadata": {},
   "outputs": [
    {
     "name": "stdout",
     "output_type": "stream",
     "text": [
      "\n",
      "Composición:\n",
      "Habitación: Sala\n",
      "Habitación: Cocina\n"
     ]
    }
   ],
   "source": [
    "# COMPOSICIÓN\n",
    "class Habitacion:\n",
    "    def __init__(self, nombre):\n",
    "        self.nombre = nombre\n",
    "\n",
    "class Casa:\n",
    "    def __init__(self):\n",
    "        self.habitaciones = [Habitacion(\"Sala\"), Habitacion(\"Cocina\")]\n",
    "        # Composición: habitaciones viven dentro de Casa\n",
    "\n",
    "casa = Casa()\n",
    "print(\"\\nComposición:\")\n",
    "for hab in casa.habitaciones:\n",
    "    print(f\"Habitación: {hab.nombre}\")"
   ]
  },
  {
   "cell_type": "markdown",
   "id": "5bc1f2ad",
   "metadata": {},
   "source": [
    "## SUPERCLASES\n",
    "Son clases generales de las que otras heredan. Definen comportamientos y atributos comunes para sus subclases, facilitando la reutilización y organización del código.\n",
    "\n",
    "Ejemplo: `Animal` como superclase de `Perro`, `Gato`, `Ave`."
   ]
  },
  {
   "cell_type": "code",
   "execution_count": 5,
   "id": "84146c25",
   "metadata": {},
   "outputs": [
    {
     "name": "stdout",
     "output_type": "stream",
     "text": [
      "\n",
      "Superclases:\n",
      "Moto arrancando\n"
     ]
    }
   ],
   "source": [
    "# SUPERCLASES\n",
    "class Vehiculo:\n",
    "    def arrancar(self):\n",
    "        return \"Vehículo arrancando\"\n",
    "\n",
    "class Moto(Vehiculo):  # Moto es subclase de Vehiculo\n",
    "    def arrancar(self):\n",
    "        return \"Moto arrancando\"\n",
    "\n",
    "print(\"\\nSuperclases:\")\n",
    "print(Moto().arrancar())"
   ]
  },
  {
   "cell_type": "markdown",
   "id": "2951cb21",
   "metadata": {},
   "source": [
    "## POLIMORFISMO\n",
    "Permite que diferentes clases respondan de manera distinta al mismo método o interfaz. Hace posible escribir código más flexible y generalizado, ya que se pueden usar objetos de diferentes clases de forma intercambiable si comparten la misma interfaz.\n",
    "\n",
    "Ejemplo: Un método `sonido()` que funciona diferente en `Perro`, `Gato` o `Ave`."
   ]
  },
  {
   "cell_type": "code",
   "execution_count": 6,
   "id": "846f16e4",
   "metadata": {},
   "outputs": [
    {
     "name": "stdout",
     "output_type": "stream",
     "text": [
      "\n",
      "Polimorfismo:\n",
      "Hola!\n",
      "Kikiriki!\n"
     ]
    }
   ],
   "source": [
    "# POLIMORFISMO\n",
    "class Ave:\n",
    "    def sonido(self):\n",
    "        return \"Canto genérico\"\n",
    "\n",
    "class Loro(Ave):\n",
    "    def sonido(self):\n",
    "        return \"Hola!\"\n",
    "\n",
    "class Gallo(Ave):\n",
    "    def sonido(self):\n",
    "        return \"Kikiriki!\"\n",
    "\n",
    "def hacer_sonido(ave):\n",
    "    print(ave.sonido())\n",
    "\n",
    "print(\"\\nPolimorfismo:\")\n",
    "hacer_sonido(Loro())\n",
    "hacer_sonido(Gallo())"
   ]
  },
  {
   "cell_type": "markdown",
   "id": "22f10d3f",
   "metadata": {},
   "source": [
    "## Ejemplo con todos los conceptos "
   ]
  },
  {
   "cell_type": "code",
   "execution_count": 8,
   "id": "6704af9a",
   "metadata": {},
   "outputs": [
    {
     "name": "stdout",
     "output_type": "stream",
     "text": [
      "Herencia y Polimorfismo:\n",
      "Hola, soy Ana y soy estudiante\n",
      "Hola, soy Carlos y soy profesor\n",
      "\n",
      "Asociación:\n",
      "El curso Programación lo dicta Carlos\n",
      "\n",
      " Agregación:\n",
      "Aula 101 tiene las siguientes computadoras:\n",
      "- Dell\n",
      "- HP\n",
      "\n",
      "Composición:\n",
      "Edificio: Facultad de Ingeniería tiene habitaciones:\n",
      "- Sala\n",
      "- Oficina\n"
     ]
    }
   ],
   "source": [
    "# SUPERCLASE (superclases) y HERENCIA\n",
    "class Persona:\n",
    "    def __init__(self, nombre):\n",
    "        self.nombre = nombre\n",
    "\n",
    "    def presentarse(self):\n",
    "        return f\"Hola, soy {self.nombre}\"\n",
    "\n",
    "# Estudiante hereda de Persona (HERENCIA)\n",
    "class Estudiante(Persona):\n",
    "    def presentarse(self):\n",
    "        return f\"Hola, soy {self.nombre} y soy estudiante\"\n",
    "\n",
    "# Profesor hereda de Persona (HERENCIA)\n",
    "class Profesor(Persona):\n",
    "    def presentarse(self):\n",
    "        return f\"Hola, soy {self.nombre} y soy profesor\"\n",
    "\n",
    "# POLIMORFISMO: misma interfaz, diferentes comportamientos\n",
    "def saludar(persona):\n",
    "    print(persona.presentarse())\n",
    "\n",
    "# ASOCIACIÓN\n",
    "class Curso:\n",
    "    def __init__(self, nombre, profesor):\n",
    "        self.nombre = nombre\n",
    "        self.profesor = profesor  # Asociación: Curso conoce al Profesor\n",
    "\n",
    "# AGREGACIÓN\n",
    "class Computadora:\n",
    "    def __init__(self, marca):\n",
    "        self.marca = marca\n",
    "\n",
    "class Aula:\n",
    "    def __init__(self, numero):\n",
    "        self.numero = numero\n",
    "        self.computadoras = []  # Agregación: Aula tiene Computadoras\n",
    "\n",
    "    def agregar_computadora(self, computadora):\n",
    "        self.computadoras.append(computadora)\n",
    "\n",
    "# COMPOSICIÓN\n",
    "class Habitacion:\n",
    "    def __init__(self, nombre):\n",
    "        self.nombre = nombre\n",
    "\n",
    "class Edificio:\n",
    "    def __init__(self, nombre):\n",
    "        self.nombre = nombre\n",
    "        self.habitaciones = [Habitacion(\"Sala\"), Habitacion(\"Oficina\")]\n",
    "        # Composición: las habitaciones dependen del edificio\n",
    "\n",
    "\n",
    "# ejemplo completo\n",
    "\n",
    "# Herencia y Polimorfismo\n",
    "print(\"Herencia y Polimorfismo:\")\n",
    "est = Estudiante(\"Ana\")\n",
    "prof = Profesor(\"Carlos\")\n",
    "\n",
    "saludar(est)\n",
    "saludar(prof)\n",
    "\n",
    "# Asociación\n",
    "print(\"\\nAsociación:\")\n",
    "curso = Curso(\"Programación\", prof)\n",
    "print(f\"El curso {curso.nombre} lo dicta {curso.profesor.nombre}\")\n",
    "\n",
    "# Agregación\n",
    "print(\"\\n Agregación:\")\n",
    "aula = Aula(101)\n",
    "comp1 = Computadora(\"Dell\")\n",
    "comp2 = Computadora(\"HP\")\n",
    "\n",
    "aula.agregar_computadora(comp1)\n",
    "aula.agregar_computadora(comp2)\n",
    "\n",
    "print(f\"Aula {aula.numero} tiene las siguientes computadoras:\")\n",
    "for comp in aula.computadoras:\n",
    "    print(f\"- {comp.marca}\")\n",
    "\n",
    "# Composición\n",
    "print(\"\\nComposición:\")\n",
    "edificio = Edificio(\"Facultad de Ingeniería\")\n",
    "print(f\"Edificio: {edificio.nombre} tiene habitaciones:\")\n",
    "for hab in edificio.habitaciones:\n",
    "    print(f\"- {hab.nombre}\")\n"
   ]
  }
 ],
 "metadata": {
  "kernelspec": {
   "display_name": "Python 3",
   "language": "python",
   "name": "python3"
  },
  "language_info": {
   "codemirror_mode": {
    "name": "ipython",
    "version": 3
   },
   "file_extension": ".py",
   "mimetype": "text/x-python",
   "name": "python",
   "nbconvert_exporter": "python",
   "pygments_lexer": "ipython3",
   "version": "3.13.2"
  }
 },
 "nbformat": 4,
 "nbformat_minor": 5
}
